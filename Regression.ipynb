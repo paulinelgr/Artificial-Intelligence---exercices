{
 "cells": [
  {
   "cell_type": "raw",
   "metadata": {},
   "source": [
    "# My first labwork"
   ]
  },
  {
   "cell_type": "markdown",
   "metadata": {},
   "source": [
    "## Linear Regression example "
   ]
  },
  {
   "cell_type": "code",
   "execution_count": 1,
   "metadata": {},
   "outputs": [],
   "source": [
    "import numpy as np\n",
    "import matplotlib.pyplot as plt\n",
    "from sklearn import linear_model"
   ]
  },
  {
   "cell_type": "code",
   "execution_count": 2,
   "metadata": {},
   "outputs": [],
   "source": [
    "f= open(\"mydata.csv\")"
   ]
  },
  {
   "cell_type": "code",
   "execution_count": 3,
   "metadata": {},
   "outputs": [
    {
     "name": "stdout",
     "output_type": "stream",
     "text": [
      "[[ 84.359   59.8077]\n",
      " [ 72.8205  52.5   ]\n",
      " [ 96.4103  49.4231]\n",
      " [  7.1795  90.1923]\n",
      " [ 10.2564  80.9615]\n",
      " [  5.8974  14.8077]\n",
      " [ 76.4103  56.3462]\n",
      " [ 75.641   84.0385]\n",
      " [ 73.3333  49.4231]\n",
      " [ 21.5385  50.1923]\n",
      " [ 38.9744  32.8846]\n",
      " [ 18.9744  66.3462]\n",
      " [ 16.9231  74.4231]\n",
      " [ 85.3846  30.1923]\n",
      " [  9.2308  62.8846]\n",
      " [ 34.359   37.8846]\n",
      " [ 89.7436  74.4231]\n",
      " [ 10.5128  90.1923]\n",
      " [ 15.8974  94.8077]\n",
      " [ 80.2564  59.0385]\n",
      " [ 85.641   70.9615]\n",
      " [  7.4359  38.6538]\n",
      " [ 30.2564  81.7308]\n",
      " [ 76.4103  42.5   ]\n",
      " [  6.6667  80.1923]\n",
      " [ 19.4872  55.5769]\n",
      " [ 31.7949  40.5769]\n",
      " [ 93.3333  94.8077]\n",
      " [ 15.3846  78.2692]\n",
      " [ 73.0769  57.8846]\n",
      " [ 82.3077  69.4231]\n",
      " [ 13.0769  91.7308]\n",
      " [ 12.5641  75.9615]\n",
      " [ 55.8974  38.6538]\n",
      " [ 91.2821  70.9615]\n",
      " [ 34.8718  55.9615]\n",
      " [ 24.1026  55.5769]\n",
      " [ 11.7949  70.9615]\n",
      " [ 79.7436  77.8846]\n",
      " [ 68.7179  49.4231]\n",
      " [ 90.2564  80.1923]\n",
      " [ 12.8205  83.6538]\n",
      " [ 38.4615  36.7308]\n",
      " [ 16.4103  57.5   ]\n",
      " [ 87.4359  75.5769]\n",
      " [ 11.5385  51.7308]\n",
      " [ 98.4615  61.7308]\n",
      " [ 33.0769  90.9615]\n",
      " [ 26.4103  41.7308]\n",
      " [  5.641   75.5769]\n",
      " [  9.2308  83.6538]\n",
      " [ 91.2821  26.3462]\n",
      " [ 38.9744  41.7308]\n",
      " [ 83.8462  50.5769]\n",
      " [ 84.6154  67.1154]\n",
      " [ 68.7179  27.1154]\n",
      " [ 12.3077  80.1923]\n",
      " [ 28.7179  63.2692]\n",
      " [ 27.4359  52.8846]\n",
      " [ 75.8974  66.3462]\n",
      " [ 12.3077  87.1154]\n",
      " [ 89.7436  85.5769]\n",
      " [ 20.2564  73.6538]\n",
      " [ 18.9744  36.3462]\n",
      " [ 83.5897  97.8846]\n",
      " [ 50.7692   4.0385]\n",
      " [ 97.9487  94.0385]\n",
      " [ 22.8205  46.3462]\n",
      " [ 68.2051  41.3462]\n",
      " [ 16.9231  83.6538]\n",
      " [ 21.7949  64.0385]\n",
      " [ 30.7692  48.6538]\n",
      " [ 16.9231  70.1923]\n",
      " [ 54.8718  24.8077]\n",
      " [ 85.3846  83.2692]\n",
      " [ 78.2051  61.7308]\n",
      " [ 39.7436  28.6538]\n",
      " [ 92.3077  82.8846]\n",
      " [ 42.3077  22.1154]\n",
      " [ 78.2051  59.4231]\n",
      " [ 91.2821  78.2692]\n",
      " [ 20.      77.8846]\n",
      " [ 36.9231  27.8846]\n",
      " [ 74.359   69.4231]\n",
      " [ 67.6923  61.7308]\n",
      " [ 10.7692  76.7308]\n",
      " [ 84.1026  42.5   ]\n",
      " [ 75.8974  50.5769]\n",
      " [ 93.8462  75.5769]\n",
      " [ 73.8462  34.0385]\n",
      " [  7.1795  95.5769]\n",
      " [ 87.1795  59.0385]\n",
      " [ 60.5128  41.3462]\n",
      " [  3.5897 100.9615]\n",
      " [ 14.359   71.3462]\n",
      " [ 65.8974  43.2692]\n",
      " [ 70.      47.1154]\n",
      " [ 80.2564  56.3462]\n",
      " [ 24.8718  64.8077]\n",
      " [ 35.641   33.6538]\n",
      " [ 64.1026  37.8846]\n",
      " [ 60.7692  25.1923]\n",
      " [ 84.6154  74.4231]\n",
      " [ 17.6923  51.7308]\n",
      " [ 21.2821  57.5   ]\n",
      " [ 64.6154  54.4231]\n",
      " [ 30.5128  44.4231]\n",
      " [ 70.2564  43.2692]\n",
      " [ 27.1795  24.4231]\n",
      " [ 82.0513  65.9615]\n",
      " [ 26.4103  57.8846]\n",
      " [  8.4615  87.5   ]\n",
      " [ 52.0513  57.1154]\n",
      " [ 36.4103  38.2692]\n",
      " [ 22.3077  85.5769]\n",
      " [ 17.9487  61.3462]\n",
      " [ 44.8718  35.1923]\n",
      " [ 29.7436  36.3462]\n",
      " [ 27.6923  46.3462]\n",
      " [ 63.5897  34.8077]\n",
      " [ 67.4359  37.8846]\n",
      " [ 14.6154  65.5769]\n",
      " [ 72.8205  63.2692]\n",
      " [ 28.4615  69.8077]\n",
      " [ 66.6667  33.2692]\n",
      " [ 61.0256  32.5   ]\n",
      " [  4.8718  85.1923]\n",
      " [  4.6154  96.7308]\n",
      " [ 22.0513  68.6538]\n",
      " [ 78.4615  52.8846]\n",
      " [ 88.2051  89.4231]\n",
      " [ 32.8205  42.5   ]\n",
      " [ 97.6923  85.5769]\n",
      " [ 79.4872  67.1154]\n",
      " [ 87.9487  69.4231]\n",
      " [  2.5641  91.7308]\n",
      " [ 29.2308  41.3462]\n",
      " [ 25.641   50.5769]\n",
      " [ 20.2564  60.1923]\n",
      " [ 23.0769  52.8846]\n",
      " [ 97.1795  75.5769]\n",
      " [ 93.5897  87.1154]\n",
      " [ 35.8974  47.8846]\n",
      " [ 64.359   30.9615]\n",
      " [ 23.8462  60.1923]\n",
      " [ 67.9487  44.0385]\n",
      " [ 85.641   79.4231]\n",
      " [ 72.5641  45.5769]\n",
      " [ 82.5641  62.5   ]\n",
      " [ 37.4359  67.8846]]\n"
     ]
    }
   ],
   "source": [
    "data = np.loadtxt(f, delimiter=\";\")\n",
    "print(data)"
   ]
  },
  {
   "cell_type": "code",
   "execution_count": 4,
   "metadata": {},
   "outputs": [
    {
     "data": {
      "text/plain": [
       "<matplotlib.collections.PathCollection at 0x2130e66de50>"
      ]
     },
     "execution_count": 4,
     "metadata": {},
     "output_type": "execute_result"
    },
    {
     "data": {
      "image/png": "[encoded data removed]",
      "text/plain": [
       "<Figure size 432x288 with 1 Axes>"
      ]
     },
     "metadata": {
      "needs_background": "light"
     },
     "output_type": "display_data"
    }
   ],
   "source": [
    "plt.scatter (data[:,0], data[:,1])  #trace nuage de points en sélectionnant toutes les lignes de la 1e colonne et de la 2e colonne"
   ]
  },
  {
   "cell_type": "code",
   "execution_count": 15,
   "metadata": {},
   "outputs": [],
   "source": [
    "myReg = linear_model.LinearRegression()\n",
    "\n",
    "X = data[:,0]   \n",
    "X=X.reshape(-1,1)   # Transform array of values into array of arrays\n",
    "Y = data[:,1]"
   ]
  },
  {
   "cell_type": "code",
   "execution_count": 6,
   "metadata": {},
   "outputs": [
    {
     "data": {
      "text/plain": [
       "LinearRegression()"
      ]
     },
     "execution_count": 6,
     "metadata": {},
     "output_type": "execute_result"
    }
   ],
   "source": [
    "myReg.fit(X,Y)     # Train the linear regression model"
   ]
  },
  {
   "cell_type": "code",
   "execution_count": 7,
   "metadata": {
    "scrolled": true
   },
   "outputs": [
    {
     "data": {
      "image/png": "[encoded data removed]",
      "text/plain": [
       "<Figure size 432x288 with 1 Axes>"
      ]
     },
     "metadata": {
      "needs_background": "light"
     },
     "output_type": "display_data"
    }
   ],
   "source": [
    "Y_pred = myReg.predict(X)      # use the model to predict\n",
    "\n",
    "plt.scatter(X, Y,  color='black')               \n",
    "plt.plot(X, Y_pred, color='blue', linewidth=3)\n",
    "\n",
    "plt.show()"
   ]
  },
  {
   "cell_type": "code",
   "execution_count": 8,
   "metadata": {},
   "outputs": [
    {
     "data": {
      "text/plain": [
       "array([54.75529835])"
      ]
     },
     "execution_count": 8,
     "metadata": {},
     "output_type": "execute_result"
    }
   ],
   "source": [
    "myReg.predict([[150]])"
   ]
  },
  {
   "cell_type": "markdown",
   "metadata": {},
   "source": [
    "## Polynomial"
   ]
  },
  {
   "cell_type": "code",
   "execution_count": 9,
   "metadata": {},
   "outputs": [
    {
     "data": {
      "text/plain": [
       "Pipeline(steps=[('polynomialfeatures', PolynomialFeatures()),\n",
       "                ('ridge', Ridge())])"
      ]
     },
     "execution_count": 9,
     "metadata": {},
     "output_type": "execute_result"
    }
   ],
   "source": [
    "from sklearn.preprocessing import PolynomialFeatures\n",
    "from sklearn.pipeline import make_pipeline\n",
    "from sklearn.linear_model import Ridge\n",
    "\n",
    "poly =  make_pipeline(PolynomialFeatures(degree=2), Ridge())\n",
    "\n",
    "poly.fit(X, Y)"
   ]
  },
  {
   "cell_type": "code",
   "execution_count": 10,
   "metadata": {},
   "outputs": [
    {
     "data": {
      "image/png": "[encoded data removed]",
      "text/plain": [
       "<Figure size 432x288 with 1 Axes>"
      ]
     },
     "metadata": {
      "needs_background": "light"
     },
     "output_type": "display_data"
    }
   ],
   "source": [
    "Y_pred2 = poly.predict(X)\n",
    "\n",
    "plt.scatter(X, Y,  color='black')\n",
    "plt.scatter(X, Y_pred2, color='red', linewidth=3)\n",
    "\n",
    "plt.show()"
   ]
  },
  {
   "cell_type": "code",
   "execution_count": 11,
   "metadata": {},
   "outputs": [
    {
     "data": {
      "text/plain": [
       "array([40.00563744])"
      ]
     },
     "execution_count": 11,
     "metadata": {},
     "output_type": "execute_result"
    }
   ],
   "source": [
    "poly.predict([[50]])"
   ]
  },
  {
   "cell_type": "code",
   "execution_count": 12,
   "metadata": {},
   "outputs": [
    {
     "data": {
      "text/plain": [
       "<function sklearn.pipeline.Pipeline.predict(self, X, **predict_params)>"
      ]
     },
     "execution_count": 12,
     "metadata": {},
     "output_type": "execute_result"
    }
   ],
   "source": [
    "poly.predict"
   ]
  },
  {
   "cell_type": "code",
   "execution_count": null,
   "metadata": {},
   "outputs": [],
   "source": []
  }
 ],
 "metadata": {
  "kernelspec": {
   "display_name": "Python 3 (ipykernel)",
   "language": "python",
   "name": "python3"
  },
  "language_info": {
   "codemirror_mode": {
    "name": "ipython",
    "version": 3
   },
   "file_extension": ".py",
   "mimetype": "text/x-python",
   "name": "python",
   "nbconvert_exporter": "python",
   "pygments_lexer": "ipython3",
   "version": "3.9.7"
  }
 },
 "nbformat": 4,
 "nbformat_minor": 4
}
